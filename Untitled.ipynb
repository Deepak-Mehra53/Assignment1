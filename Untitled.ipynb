{
 "cells": [
  {
   "cell_type": "code",
   "execution_count": 5,
   "id": "4b522e6b-5c70-4084-aae8-7a97ae825076",
   "metadata": {},
   "outputs": [
    {
     "name": "stdout",
     "output_type": "stream",
     "text": [
      "<class 'str'>\n",
      "<class 'list'>\n",
      "<class 'float'>\n",
      "<class 'tuple'>\n"
     ]
    }
   ],
   "source": [
    "'''Q1. Create one variable containing following type of data:\n",
    "(i) string\n",
    "(ii) list\n",
    "(iii) float\n",
    "(iv) tuple          '''\n",
    "\n",
    "mixed_data = (\"Hello, world!\", [1, 2, 3, 4, 5], 3.14, (10, 20, 30))\n",
    "for i in mixed_data :\n",
    "    print(type(i))"
   ]
  },
  {
   "cell_type": "code",
   "execution_count": 32,
   "id": "7fbcb2ba-ed1b-4400-8a8c-10a9daeea326",
   "metadata": {},
   "outputs": [
    {
     "name": "stdout",
     "output_type": "stream",
     "text": [
      "<class 'str'>\n",
      "<class 'str'>\n",
      "<class 'list'>\n",
      "<class 'float'>\n"
     ]
    }
   ],
   "source": [
    "''' Q2. Given are some following variables containing data:\n",
    "(i) string\n",
    "(ii) list\n",
    "(iii) float\n",
    "(iv) tuple    '''\n",
    "\n",
    "# str\n",
    "var1 = ' '\n",
    "# str\n",
    "var2 = '[ DS , ML , Python]'\n",
    "    # list\n",
    "var3 = [ 'DS' , 'ML' , 'Python' ]\n",
    " #float\n",
    "var4 = 1.\n",
    "\n",
    "List=[var1,var2,var3,var4]\n",
    "for i in List :\n",
    "    print(type(i))\n",
    "\n",
    "\n"
   ]
  },
  {
   "cell_type": "code",
   "execution_count": 34,
   "id": "76f4c67f-3602-417f-b0d4-0a7171c8523c",
   "metadata": {},
   "outputs": [
    {
     "name": "stdout",
     "output_type": "stream",
     "text": [
      "5.0\n",
      "2\n",
      "3\n",
      "8\n"
     ]
    }
   ],
   "source": [
    "'''' Q3. Explain the use of the following operators using an example:\n",
    "(i) /\n",
    "(ii) %\n",
    "(iii) //\n",
    "(iv) **                  '''\n",
    "\n",
    "result = 10 / 2\n",
    "print(result) \n",
    "\n",
    "remainder = 17 % 5\n",
    "print(remainder) \n",
    "\n",
    "result = 15 // 4\n",
    "print(result) \n",
    "\n",
    "result = 2 ** 3\n",
    "print(result)  \n"
   ]
  },
  {
   "cell_type": "code",
   "execution_count": 39,
   "id": "1cd1bb7b-2272-4f1d-818e-d61e88da39bf",
   "metadata": {},
   "outputs": [
    {
     "name": "stdout",
     "output_type": "stream",
     "text": [
      "Element: 1 | Data Type: <class 'int'>\n",
      "Element: apple | Data Type: <class 'str'>\n",
      "Element: 3.14 | Data Type: <class 'float'>\n",
      "Element: True | Data Type: <class 'bool'>\n",
      "Element: [2, 4, 6] | Data Type: <class 'list'>\n",
      "Element: banana | Data Type: <class 'str'>\n",
      "Element: (10, 20) | Data Type: <class 'tuple'>\n",
      "Element: {'name': 'John', 'age': 30} | Data Type: <class 'dict'>\n",
      "Element: None | Data Type: <class 'NoneType'>\n",
      "Element: False | Data Type: <class 'bool'>\n"
     ]
    }
   ],
   "source": [
    "''' Q4. Create a list of length 10 of your choice containing multiple types of data. Using for loop print the\n",
    "element and its data type. '''\n",
    "\n",
    "my_list = [1, \"apple\", 3.14, True, [2, 4, 6], \"banana\", (10, 20), {\"name\": \"John\", \"age\": 30}, None, False]\n",
    "\n",
    "for item in my_list:\n",
    "    print(f\"Element: {item} | Data Type: {type(item)}\")\n"
   ]
  },
  {
   "cell_type": "code",
   "execution_count": 40,
   "id": "74061fdb-62ce-4f27-bb8a-b8234af7a418",
   "metadata": {},
   "outputs": [
    {
     "name": "stdin",
     "output_type": "stream",
     "text": [
      "Enter the dividend (A):  10\n",
      "Enter the divisor (B):  5\n"
     ]
    },
    {
     "name": "stdout",
     "output_type": "stream",
     "text": [
      "0 cannot be divided further.\n",
      "5 divides 10 2 times.\n"
     ]
    }
   ],
   "source": [
    "''' Q5. Using a while loop, verify if the number A is purely divisible by number B and if so then how many\n",
    "times it can be divisible. '''\n",
    "\n",
    "A = int(input(\"Enter the dividend (A): \"))\n",
    "B = int(input(\"Enter the divisor (B): \"))\n",
    "\n",
    "if B == 0:\n",
    "    print(\"Cannot divide by zero.\")\n",
    "else:\n",
    "    quotient = 0\n",
    "    while A >= B:\n",
    "        A -= B\n",
    "        quotient += 1\n",
    "    \n",
    "    print(f\"{A} cannot be divided further.\")\n",
    "    print(f\"{B} divides {A + B * quotient} {quotient} times.\")\n"
   ]
  },
  {
   "cell_type": "code",
   "execution_count": null,
   "id": "211faa6c-8391-4417-9f3a-f30792c5cee6",
   "metadata": {},
   "outputs": [],
   "source": [
    "''' Q6. Create a list containing 25 int type data. Using for loop and if-else condition print if the element is\n",
    "divisible by 3 or not. '''\n",
    "\n",
    "my_list = [12, 7, 18, 9, 5, 27, 30, 14, 21, 6,\n",
    "           33, 42, 8, 16, 25, 36, 48, 11, 39, 22,\n",
    "           4, 13, 20, 45, 10]\n",
    "\n",
    "for num in my_list:\n",
    "    if num % 3 == 0:\n",
    "        print(f\"{num} is divisible by 3\")\n",
    "    else:\n",
    "        print(f\"{num} is not divisible by 3\")"
   ]
  },
  {
   "cell_type": "code",
   "execution_count": 3,
   "id": "31f007e8-8de8-438f-8947-3764fe72352c",
   "metadata": {},
   "outputs": [
    {
     "name": "stdout",
     "output_type": "stream",
     "text": [
      "5\n",
      "3.14\n",
      "Alice\n",
      "[1, 2, 3, 4]\n",
      "{'name': 'John', 'age': 31}\n",
      "{1, 2, 3, 4}\n"
     ]
    }
   ],
   "source": [
    "\n",
    "\n",
    "# Examples of immutable data types in Python include:\n",
    "\n",
    "x = 5\n",
    "y = x  # y now holds the value 5, but x and y are separate instances\n",
    "y = y + 1  # y is updated to 6, but x remains 5\n",
    "print(x)\n",
    "\n",
    "a = 3.14\n",
    "b = a  # b now holds the value 3.14, but a and b are separate instances\n",
    "b = b + 1.0  # b is updated to 4.14, but a remains 3.14\n",
    "print(a)\n",
    "\n",
    "name = \"Alice\"\n",
    "new_name = name.upper()  # Creates a new string \"ALICE\", original \"name\" remains \"Alice\"\n",
    "print(name)\n",
    "\n",
    "# Examples of mutable data types in Python include:\n",
    "\n",
    "numbers = [1, 2, 3]\n",
    "numbers.append(4)  # Modifies the original list by adding 4\n",
    "print(numbers)\n",
    "\n",
    "\n",
    "person = {\"name\": \"John\", \"age\": 30}\n",
    "person[\"age\"] = 31  # Modifies the age value in the dictionary\n",
    "print(person)\n",
    "\n",
    "my_set = {1, 2, 3}\n",
    "my_set.add(4)  # Modifies the original set by adding 4\n",
    "print(my_set)\n",
    "\n"
   ]
  },
  {
   "cell_type": "code",
   "execution_count": null,
   "id": "3c89e441-30fc-4c8d-9312-80341f966092",
   "metadata": {},
   "outputs": [],
   "source": []
  }
 ],
 "metadata": {
  "kernelspec": {
   "display_name": "Python 3 (ipykernel)",
   "language": "python",
   "name": "python3"
  },
  "language_info": {
   "codemirror_mode": {
    "name": "ipython",
    "version": 3
   },
   "file_extension": ".py",
   "mimetype": "text/x-python",
   "name": "python",
   "nbconvert_exporter": "python",
   "pygments_lexer": "ipython3",
   "version": "3.10.8"
  }
 },
 "nbformat": 4,
 "nbformat_minor": 5
}
